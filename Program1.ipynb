{
  "nbformat": 4,
  "nbformat_minor": 0,
  "metadata": {
    "colab": {
      "provenance": []
    },
    "kernelspec": {
      "name": "python3",
      "display_name": "Python 3"
    },
    "language_info": {
      "name": "python"
    }
  },
  "cells": [
    {
      "cell_type": "markdown",
      "source": [
        "Implement A* Search Algorithm"
      ],
      "metadata": {
        "id": "4ttq8xZRbqeB"
      }
    },
    {
      "cell_type": "code",
      "source": [
        "def A_Star(start_node,stop_node):\n",
        "  openset=set(start_node)\n",
        "  closedset=set()\n",
        "  g={}\n",
        "  parents={}\n",
        "  g[start_node]=0\n",
        "  parents[start_node]=start_node\n",
        "  while len(openset)>0:\n",
        "    n=None\n",
        "    for v in openset:\n",
        "      if n==None or g[v]+heuristic(v)<g[n]+heuristic(n):\n",
        "        n=v\n",
        "    if n==stop_node or Graph_nodes[n]==None:\n",
        "      pass\n",
        "    else:\n",
        "      for (m,weight) in get_neighbors(n):\n",
        "        if m not in openset and m not in closedset:\n",
        "          openset.add(m)\n",
        "          parents[m]=n\n",
        "          g[m]=g[n]+weight\n",
        "        else:\n",
        "           if g[m]>g[n]+weight:\n",
        "             g[m]=g[n]+weight\n",
        "             parents[m]=n\n",
        "             if m in closedset:\n",
        "               closedset.remove(m)\n",
        "               openset.add(m)\n",
        "    if n==None:\n",
        "      print(\"Path doesnot exist\")\n",
        "      return None\n",
        "    if n==stop_node:\n",
        "      path=[]\n",
        "      while parents[n]!= n:\n",
        "            path.append(n)\n",
        "            n=parents[n]\n",
        "      path.append(start_node)\n",
        "      path.reverse()\n",
        "      print(\"Path found\\n\".format(path))\n",
        "      return path\n",
        "    openset.remove(n)\n",
        "    closedset.add(n)\n",
        "  print(\"Path doesnot exist\")\n",
        "  return None"
      ],
      "metadata": {
        "id": "P6jIpGcFsfRu"
      },
      "execution_count": 1,
      "outputs": []
    },
    {
      "cell_type": "code",
      "execution_count": 2,
      "metadata": {
        "id": "cu8H6P00qXRZ"
      },
      "outputs": [],
      "source": [
        "def get_neighbors(v):\n",
        "  if v in Graph_nodes:\n",
        "    return Graph_nodes[v]\n",
        "  else:\n",
        "    return None"
      ]
    },
    {
      "cell_type": "code",
      "source": [
        "def heuristic(n):\n",
        "  H_dist={\n",
        "      'A': 2,\n",
        "      'B': 1,\n",
        "      'C': 4,\n",
        "      'D':3,\n",
        "      'E':8,\n",
        "      'F':0,\n",
        "  }\n",
        "  return H_dist[n]\n",
        "\n",
        "Graph_nodes={\n",
        "    'A':[('C',99),('B',1),('D',3)],\n",
        "    'B':[('F',5)],\n",
        "    'D':[('E',4)],\n",
        "    'E':[('F',1)]\n",
        "}\n",
        "\n",
        "A_Star('A','F')"
      ],
      "metadata": {
        "id": "Trr3_1r6qnGS",
        "colab": {
          "base_uri": "https://localhost:8080/"
        },
        "outputId": "4156c4bd-9cca-486c-9a1e-15422c4118d2"
      },
      "execution_count": 3,
      "outputs": [
        {
          "output_type": "stream",
          "name": "stdout",
          "text": [
            "Path found\n",
            "\n"
          ]
        },
        {
          "output_type": "execute_result",
          "data": {
            "text/plain": [
              "['A', 'B', 'F']"
            ]
          },
          "metadata": {},
          "execution_count": 3
        }
      ]
    },
    {
      "cell_type": "code",
      "source": [
        "def heuristic(n):\n",
        "        H_dist = {\n",
        "            'A': 11,\n",
        "            'B': 6,\n",
        "            'C': 99,\n",
        "            'D': 1,\n",
        "            'E': 7,\n",
        "            'G': 0           \n",
        "        }\n",
        " \n",
        "        return H_dist[n]\n",
        " \n",
        "Graph_nodes = {\n",
        "    'A': [('B', 2), ('E', 3)],\n",
        "    'B': [('C', 1), ('G', 9)],\n",
        "    'E': [('D', 6)],\n",
        "    'D': [('G', 1)]\n",
        "}\n",
        "\n",
        "A_Star('A', 'G')"
      ],
      "metadata": {
        "id": "92dmdICarzX6",
        "colab": {
          "base_uri": "https://localhost:8080/"
        },
        "outputId": "794aa863-e48c-45f7-afc2-e04a80570dda"
      },
      "execution_count": 4,
      "outputs": [
        {
          "output_type": "stream",
          "name": "stdout",
          "text": [
            "Path found\n",
            "\n"
          ]
        },
        {
          "output_type": "execute_result",
          "data": {
            "text/plain": [
              "['A', 'E', 'D', 'G']"
            ]
          },
          "metadata": {},
          "execution_count": 4
        }
      ]
    },
    {
      "cell_type": "code",
      "source": [
        "def heuristic(n):\n",
        "        H_dist = {\n",
        "            'A': 10,\n",
        "            'B': 8,\n",
        "            'C': 5,\n",
        "            'D': 7,\n",
        "            'E': 3,\n",
        "            'F': 6,\n",
        "            'G': 5,\n",
        "            'H': 3,\n",
        "            'I': 1,\n",
        "            'J': 0             \n",
        "        }\n",
        " \n",
        "        return H_dist[n]\n",
        "  \n",
        "Graph_nodes = {\n",
        "    'A': [('B', 6), ('F', 3)],\n",
        "    'B': [('C', 3), ('D', 2)],\n",
        "    'C': [('D', 1), ('E', 5)],\n",
        "    'D': [('C', 1), ('E', 8)],\n",
        "    'E': [('I', 5), ('J', 5)],\n",
        "    'F': [('G', 1),('H', 7)] ,\n",
        "    'G': [('I', 3)],\n",
        "    'H': [('I', 2)],\n",
        "    'I': [('E', 5), ('J', 3)],\n",
        "     \n",
        "}\n",
        "\n",
        "A_Star('A', 'J')"
      ],
      "metadata": {
        "colab": {
          "base_uri": "https://localhost:8080/"
        },
        "id": "EolrOF1yvP91",
        "outputId": "6db90fdf-af06-4c64-8aee-cae4f0646104"
      },
      "execution_count": 5,
      "outputs": [
        {
          "output_type": "stream",
          "name": "stdout",
          "text": [
            "Path found\n",
            "\n"
          ]
        },
        {
          "output_type": "execute_result",
          "data": {
            "text/plain": [
              "['A', 'F', 'G', 'I', 'J']"
            ]
          },
          "metadata": {},
          "execution_count": 5
        }
      ]
    },
    {
      "cell_type": "code",
      "source": [],
      "metadata": {
        "id": "3ewIJtfaxKW4"
      },
      "execution_count": null,
      "outputs": []
    }
  ]
}