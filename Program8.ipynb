{
  "nbformat": 4,
  "nbformat_minor": 0,
  "metadata": {
    "colab": {
      "provenance": []
    },
    "kernelspec": {
      "name": "python3",
      "display_name": "Python 3"
    },
    "language_info": {
      "name": "python"
    }
  },
  "cells": [
    {
      "cell_type": "markdown",
      "source": [
        "Write a program to implement k-Nearest Neighbour algorithm to classify the iris data set. Print \n",
        "both correct and wrong predictions. Java/Python ML library classes can be used for this problem. "
      ],
      "metadata": {
        "id": "TgMpWBallTGn"
      }
    },
    {
      "cell_type": "code",
      "source": [
        "from sklearn.datasets import load_iris\n",
        "from sklearn.neighbors import KNeighborsClassifier\n",
        "from sklearn.metrics import confusion_matrix, classification_report, accuracy_score\n",
        "from sklearn.model_selection import train_test_split\n",
        "import numpy as np\n",
        "\n",
        "dataset=load_iris()\n",
        "X_train,X_test,y_train,y_test=train_test_split(dataset[\"data\"], dataset[\"target\"],random_state=0,test_size=0.25)\n",
        " \n",
        "kn=KNeighborsClassifier(n_neighbors=5,p=3,metric='euclidean')\n",
        "kn.fit(X_train,y_train)\n",
        "y_pred=kn.predict(X_test)\n",
        "\n",
        "print('Confusion matrix is as follows\\n',confusion_matrix(y_test,y_pred))\n",
        "print('Accuracy Metrics\\n',classification_report(y_test,y_pred))\n",
        "print(\"Correct predicition \",accuracy_score(y_test,y_pred))\n",
        "print(\"Worng predicition   \",(1-accuracy_score(y_test,y_pred)))"
      ],
      "metadata": {
        "colab": {
          "base_uri": "https://localhost:8080/"
        },
        "id": "a4YTABAssDMZ",
        "outputId": "03c4b12a-9cee-4125-8f04-86fe415d0598"
      },
      "execution_count": 3,
      "outputs": [
        {
          "output_type": "stream",
          "name": "stdout",
          "text": [
            "Confusion matrix is as follows\n",
            " [[13  0  0]\n",
            " [ 0 15  1]\n",
            " [ 0  0  9]]\n",
            "Accuracy Metrics\n",
            "               precision    recall  f1-score   support\n",
            "\n",
            "           0       1.00      1.00      1.00        13\n",
            "           1       1.00      0.94      0.97        16\n",
            "           2       0.90      1.00      0.95         9\n",
            "\n",
            "    accuracy                           0.97        38\n",
            "   macro avg       0.97      0.98      0.97        38\n",
            "weighted avg       0.98      0.97      0.97        38\n",
            "\n",
            "Correct predicition  0.9736842105263158\n",
            "Worng predicition    0.02631578947368418\n"
          ]
        }
      ]
    },
    {
      "cell_type": "code",
      "source": [
        "x_new=np.array([[5,2.9,1,0.2]])\n",
        "print(\"\\n XNEW \\n\",x_new)\n",
        "prediction = kn.predict(x_new)\n",
        "print(\"\\n Predicted target value: {}\\n\".format(prediction))\n",
        "print(\"\\n Predicted feature name: {}\\n\".format(dataset[\"target_names\"][prediction]))"
      ],
      "metadata": {
        "colab": {
          "base_uri": "https://localhost:8080/"
        },
        "id": "xMJ2o7gilywQ",
        "outputId": "7d6ec104-ed3a-4a94-d4f1-e760003af3c5"
      },
      "execution_count": 4,
      "outputs": [
        {
          "output_type": "stream",
          "name": "stdout",
          "text": [
            "\n",
            " XNEW \n",
            " [[5.  2.9 1.  0.2]]\n",
            "\n",
            " Predicted target value: [0]\n",
            "\n",
            "\n",
            " Predicted feature name: ['setosa']\n",
            "\n"
          ]
        }
      ]
    }
  ]
}