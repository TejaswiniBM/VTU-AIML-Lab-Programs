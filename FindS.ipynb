{
  "nbformat": 4,
  "nbformat_minor": 0,
  "metadata": {
    "colab": {
      "provenance": []
    },
    "kernelspec": {
      "name": "python3",
      "display_name": "Python 3"
    },
    "language_info": {
      "name": "python"
    }
  },
  "cells": [
    {
      "cell_type": "code",
      "execution_count": 6,
      "metadata": {
        "colab": {
          "base_uri": "https://localhost:8080/"
        },
        "id": "iQyoR7xGptRG",
        "outputId": "a537341f-eac0-4c15-c888-34396d151086"
      },
      "outputs": [
        {
          "output_type": "stream",
          "name": "stdout",
          "text": [
            "POSITIVE EXAMPLES ARE:\n",
            "[['Sunny', 'Warm', 'Normal', 'Strong', 'Warm', 'Same'], ['Sunny', 'Warm', 'High', 'Strong', 'Warm', 'Same'], ['Sunny', 'Warm', 'High', 'Strong', 'Cool', 'Change']]\n",
            "\n",
            "output in each steps are:\n",
            "['ɸ', 'ɸ', 'ɸ', 'ɸ', 'ɸ', 'ɸ']\n",
            "['Sunny', 'Warm', 'Normal', 'Strong', 'Warm', 'Same']\n",
            "['Sunny', 'Warm', '?', 'Strong', 'Warm', 'Same']\n",
            "['Sunny', 'Warm', '?', 'Strong', '?', '?']\n"
          ]
        }
      ],
      "source": [
        "import csv\n",
        "with open('trainingexamples.csv') as csvFile:\n",
        "    data = [line[:-1] for line in csv.reader(csvFile) if line[-1] == \"Y\"]\n",
        "print(\"POSITIVE EXAMPLES ARE:\\n{}\".format(data))\n",
        "print()\n",
        "S = ['ɸ']*len(data[0])   # Initializing.\n",
        "print(\"output in each steps are:\\n{}\".format(S))\n",
        "for example in data:\n",
        "    i = 0\n",
        "    for feature in example:\n",
        "        S[i] = feature if S[i] == 'ɸ' or S[i] == feature else '?'\n",
        "        i += 1\n",
        "    print(S)"
      ]
    }
  ]
}