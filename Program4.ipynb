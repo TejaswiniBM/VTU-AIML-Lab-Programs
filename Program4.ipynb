{
  "nbformat": 4,
  "nbformat_minor": 0,
  "metadata": {
    "colab": {
      "provenance": []
    },
    "kernelspec": {
      "name": "python3",
      "display_name": "Python 3"
    },
    "language_info": {
      "name": "python"
    }
  },
  "cells": [
    {
      "cell_type": "markdown",
      "source": [
        "Write a program to demonstrate the working of the decision tree based ID3 algorithm. Use an appropriate data set for building the decision tree and apply this knowledge toclassify a new sample. "
      ],
      "metadata": {
        "id": "ZQPHGh2nfyCi"
      }
    },
    {
      "cell_type": "code",
      "execution_count": null,
      "metadata": {
        "id": "lH7UbGqjaT1t"
      },
      "outputs": [],
      "source": [
        "import pandas as pd\n",
        "import numpy as np"
      ]
    },
    {
      "cell_type": "code",
      "source": [
        "dataset=pd.read_csv(\"traintennis.csv\")"
      ],
      "metadata": {
        "id": "IcDpR6TgagBp"
      },
      "execution_count": null,
      "outputs": []
    },
    {
      "cell_type": "code",
      "source": [
        "def entropy(target):\n",
        "  elements,counts=np.unique(target,return_counts=True)\n",
        "  entropy=np.sum([(-counts[i]/np.sum(counts))*np.log2(counts[i]/np.sum(counts)) for i in range(len(elements))])\n",
        "  return entropy"
      ],
      "metadata": {
        "id": "cd_ZitiCas05"
      },
      "execution_count": null,
      "outputs": []
    },
    {
      "cell_type": "code",
      "source": [
        "def Information_Gain(data,split_attribute,target=\"PlayTennis\"):\n",
        "  total_entropy=entropy(data[target])\n",
        "  elements,counts=np.unique(data[split_attribute],return_counts=True)\n",
        "  weighted_entropy=np.sum([(counts[i]/np.sum(counts))*entropy(data.where(data[split_attribute]==elements[i]).dropna()[target]) for i in range(len(elements))])\n",
        "  info_gain=total_entropy-weighted_entropy\n",
        "  return info_gain"
      ],
      "metadata": {
        "id": "V3x6TOfzbQym"
      },
      "execution_count": null,
      "outputs": []
    },
    {
      "cell_type": "code",
      "source": [
        "def ID3(data,original_data,features,target=\"PlayTennis\",parent_node=None):\n",
        "  if len(np.unique(data[target]))<=1:\n",
        "    return np.unique(data[target])[0]\n",
        "  elif len(data)==0:\n",
        "    return np.unique(original_data[target])[np.argmax(np.unique(original_data[target],return_counts=True)[1])]\n",
        "  elif len(features)==0:\n",
        "    return parent_node\n",
        "  else:\n",
        "    parent_node=np.unique(data[target])[np.argmax(np.unique(data[target],return_counts=True)[1])]\n",
        "    item_value=[Information_Gain(data,feature,target) for feature in features]\n",
        "    best_feature_index=np.argmax(item_value)\n",
        "    best_feature=features[best_feature_index]\n",
        "    features=[i for i in features if i!= best_feature]\n",
        "    tree={best_feature:{}}\n",
        "    for v in np.unique(data[best_feature]):\n",
        "      value=v\n",
        "      subdata=data.where(data[best_feature]==value).dropna()\n",
        "      subtree=ID3(subdata,dataset,features,target,parent_node)\n",
        "      tree[best_feature][value]=subtree\n",
        "    return tree\n"
      ],
      "metadata": {
        "id": "LFF7SGjFckqU"
      },
      "execution_count": null,
      "outputs": []
    },
    {
      "cell_type": "code",
      "source": [
        "t=ID3(dataset,dataset,dataset.columns[:-1])\n",
        "print(\"Decision Tree\\n\",t)"
      ],
      "metadata": {
        "colab": {
          "base_uri": "https://localhost:8080/"
        },
        "id": "gULNBSphcqRw",
        "outputId": "7d34648a-4a56-4934-ebf3-234f4dfab1b4"
      },
      "execution_count": null,
      "outputs": [
        {
          "output_type": "stream",
          "name": "stdout",
          "text": [
            "Decision Tree\n",
            " {'Outlook': {'Overcast': 'Yes', 'Rain': {'Wind': {'Strong': 'No', 'Weak': 'Yes'}}, 'Sunny': {'Humidity': {'High': 'No', 'Normal': 'Yes'}}}}\n"
          ]
        }
      ]
    },
    {
      "cell_type": "code",
      "source": [
        "dataset.columns[:-1] #features"
      ],
      "metadata": {
        "colab": {
          "base_uri": "https://localhost:8080/"
        },
        "id": "bN0kIr3bfJrj",
        "outputId": "29013ce7-ce3a-4b0d-dfe2-300ac1e1ab80"
      },
      "execution_count": null,
      "outputs": [
        {
          "output_type": "execute_result",
          "data": {
            "text/plain": [
              "Index(['Outlook', 'Temperature', 'Humidity', 'Wind'], dtype='object')"
            ]
          },
          "metadata": {},
          "execution_count": 5
        }
      ]
    },
    {
      "cell_type": "code",
      "source": [
        "d1=pd.read_csv('testtennis.csv')\n",
        "print(d1.iloc[0])"
      ],
      "metadata": {
        "colab": {
          "base_uri": "https://localhost:8080/"
        },
        "id": "iJqI8N-1hET8",
        "outputId": "f0c70c61-1615-48e6-8935-6cc870d44080"
      },
      "execution_count": null,
      "outputs": [
        {
          "output_type": "stream",
          "name": "stdout",
          "text": [
            "Outlook        Overcast\n",
            "Temperature         Hot\n",
            "Humidity         Normal\n",
            "Wind               Weak\n",
            "Name: 0, dtype: object\n"
          ]
        }
      ]
    },
    {
      "cell_type": "code",
      "source": [
        "def classify(d):\n",
        "  if ((d.Outlook==\"Overcast\" and d.Humidity==\"Normal\") or (d.Outlook==\"Overcast\" and d.Wind==\"Weak\") or (d.Humidity==\"Normal\" and d.Wind==\"Weak\")):\n",
        "    print(\"Yes\")\n",
        "  else: \n",
        "    print(\"No\")"
      ],
      "metadata": {
        "id": "ECw-udZVtsjW"
      },
      "execution_count": null,
      "outputs": []
    },
    {
      "cell_type": "code",
      "source": [
        "classify(d1.iloc[0])"
      ],
      "metadata": {
        "colab": {
          "base_uri": "https://localhost:8080/"
        },
        "id": "5RoW2V1zwBsY",
        "outputId": "615f67dc-3b72-4007-bdf7-9ac6bbb5cab3"
      },
      "execution_count": null,
      "outputs": [
        {
          "output_type": "stream",
          "name": "stdout",
          "text": [
            "Yes\n"
          ]
        }
      ]
    },
    {
      "cell_type": "code",
      "source": [
        "classify(d1.iloc[1])"
      ],
      "metadata": {
        "colab": {
          "base_uri": "https://localhost:8080/"
        },
        "id": "NokwKLpzweoA",
        "outputId": "c3b6034e-8de5-4ff9-c22f-1c06fff3ecec"
      },
      "execution_count": null,
      "outputs": [
        {
          "output_type": "stream",
          "name": "stdout",
          "text": [
            "no\n"
          ]
        }
      ]
    },
    {
      "cell_type": "code",
      "source": [
        "classify(d1.iloc[2])"
      ],
      "metadata": {
        "colab": {
          "base_uri": "https://localhost:8080/"
        },
        "id": "YUsYrGxFyG-c",
        "outputId": "9980e630-bdda-4b04-e629-07d7a8939f4a"
      },
      "execution_count": null,
      "outputs": [
        {
          "output_type": "stream",
          "name": "stdout",
          "text": [
            "Yes\n"
          ]
        }
      ]
    }
  ]
}